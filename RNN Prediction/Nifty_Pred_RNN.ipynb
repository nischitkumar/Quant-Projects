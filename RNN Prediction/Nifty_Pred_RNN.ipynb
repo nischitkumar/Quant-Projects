{
 "cells": [
  {
   "cell_type": "markdown",
   "metadata": {
    "id": "6tpdSCVCqJFE"
   },
   "source": [
    "## Importing Modules"
   ]
  },
  {
   "cell_type": "code",
   "execution_count": 181,
   "metadata": {
    "id": "YfTNLU5Th7Oa"
   },
   "outputs": [
    {
     "data": {
      "text/plain": [
       "<tensorflow.python.eager.context._EagerDeviceContext at 0x39fbe3100>"
      ]
     },
     "execution_count": 181,
     "metadata": {},
     "output_type": "execute_result"
    }
   ],
   "source": [
    "import yfinance as yf\n",
    "import pandas as pd\n",
    "import numpy as np\n",
    "import tensorflow as tf\n",
    "import keras_tuner as kt\n",
    "import matplotlib.pyplot as plt\n",
    "from tensorflow.keras.models import Sequential\n",
    "from tensorflow.keras.layers import LSTM, Dense, Dropout\n",
    "tf.device(\"/GPU:0\")\n"
   ]
  },
  {
   "cell_type": "markdown",
   "metadata": {
    "id": "IohkbEnjqMzk"
   },
   "source": [
    "## Training The Dataset and Normalizing It"
   ]
  },
  {
   "cell_type": "code",
   "execution_count": 182,
   "metadata": {
    "colab": {
     "base_uri": "https://localhost:8080/",
     "height": 450
    },
    "id": "WFGS10vC-xUk",
    "outputId": "41b4adeb-d0d0-48d8-8ac0-b464944b1248"
   },
   "outputs": [
    {
     "data": {
      "text/html": [
       "<div>\n",
       "<style scoped>\n",
       "    .dataframe tbody tr th:only-of-type {\n",
       "        vertical-align: middle;\n",
       "    }\n",
       "\n",
       "    .dataframe tbody tr th {\n",
       "        vertical-align: top;\n",
       "    }\n",
       "\n",
       "    .dataframe thead th {\n",
       "        text-align: right;\n",
       "    }\n",
       "</style>\n",
       "<table border=\"1\" class=\"dataframe\">\n",
       "  <thead>\n",
       "    <tr style=\"text-align: right;\">\n",
       "      <th></th>\n",
       "      <th>Open</th>\n",
       "      <th>High</th>\n",
       "      <th>Low</th>\n",
       "      <th>Close</th>\n",
       "      <th>Volume</th>\n",
       "      <th>Dividends</th>\n",
       "      <th>Stock Splits</th>\n",
       "    </tr>\n",
       "    <tr>\n",
       "      <th>Date</th>\n",
       "      <th></th>\n",
       "      <th></th>\n",
       "      <th></th>\n",
       "      <th></th>\n",
       "      <th></th>\n",
       "      <th></th>\n",
       "      <th></th>\n",
       "    </tr>\n",
       "  </thead>\n",
       "  <tbody>\n",
       "    <tr>\n",
       "      <th>2007-09-17 00:00:00+05:30</th>\n",
       "      <td>4518.450195</td>\n",
       "      <td>4549.049805</td>\n",
       "      <td>4482.850098</td>\n",
       "      <td>4494.649902</td>\n",
       "      <td>0</td>\n",
       "      <td>0.0</td>\n",
       "      <td>0.0</td>\n",
       "    </tr>\n",
       "    <tr>\n",
       "      <th>2007-09-18 00:00:00+05:30</th>\n",
       "      <td>4494.100098</td>\n",
       "      <td>4551.799805</td>\n",
       "      <td>4481.549805</td>\n",
       "      <td>4546.200195</td>\n",
       "      <td>0</td>\n",
       "      <td>0.0</td>\n",
       "      <td>0.0</td>\n",
       "    </tr>\n",
       "    <tr>\n",
       "      <th>2007-09-19 00:00:00+05:30</th>\n",
       "      <td>4550.250000</td>\n",
       "      <td>4739.000000</td>\n",
       "      <td>4550.250000</td>\n",
       "      <td>4732.350098</td>\n",
       "      <td>0</td>\n",
       "      <td>0.0</td>\n",
       "      <td>0.0</td>\n",
       "    </tr>\n",
       "    <tr>\n",
       "      <th>2007-09-20 00:00:00+05:30</th>\n",
       "      <td>4734.850098</td>\n",
       "      <td>4760.850098</td>\n",
       "      <td>4721.149902</td>\n",
       "      <td>4747.549805</td>\n",
       "      <td>0</td>\n",
       "      <td>0.0</td>\n",
       "      <td>0.0</td>\n",
       "    </tr>\n",
       "    <tr>\n",
       "      <th>2007-09-21 00:00:00+05:30</th>\n",
       "      <td>4752.950195</td>\n",
       "      <td>4855.700195</td>\n",
       "      <td>4733.700195</td>\n",
       "      <td>4837.549805</td>\n",
       "      <td>0</td>\n",
       "      <td>0.0</td>\n",
       "      <td>0.0</td>\n",
       "    </tr>\n",
       "    <tr>\n",
       "      <th>...</th>\n",
       "      <td>...</td>\n",
       "      <td>...</td>\n",
       "      <td>...</td>\n",
       "      <td>...</td>\n",
       "      <td>...</td>\n",
       "      <td>...</td>\n",
       "      <td>...</td>\n",
       "    </tr>\n",
       "    <tr>\n",
       "      <th>2024-11-08 00:00:00+05:30</th>\n",
       "      <td>24207.699219</td>\n",
       "      <td>24276.150391</td>\n",
       "      <td>24066.650391</td>\n",
       "      <td>24148.199219</td>\n",
       "      <td>298700</td>\n",
       "      <td>0.0</td>\n",
       "      <td>0.0</td>\n",
       "    </tr>\n",
       "    <tr>\n",
       "      <th>2024-11-11 00:00:00+05:30</th>\n",
       "      <td>24087.250000</td>\n",
       "      <td>24336.800781</td>\n",
       "      <td>24004.599609</td>\n",
       "      <td>24141.300781</td>\n",
       "      <td>273400</td>\n",
       "      <td>0.0</td>\n",
       "      <td>0.0</td>\n",
       "    </tr>\n",
       "    <tr>\n",
       "      <th>2024-11-12 00:00:00+05:30</th>\n",
       "      <td>24225.800781</td>\n",
       "      <td>24242.000000</td>\n",
       "      <td>23839.150391</td>\n",
       "      <td>23883.449219</td>\n",
       "      <td>255800</td>\n",
       "      <td>0.0</td>\n",
       "      <td>0.0</td>\n",
       "    </tr>\n",
       "    <tr>\n",
       "      <th>2024-11-13 00:00:00+05:30</th>\n",
       "      <td>23822.449219</td>\n",
       "      <td>23873.599609</td>\n",
       "      <td>23509.599609</td>\n",
       "      <td>23559.050781</td>\n",
       "      <td>304600</td>\n",
       "      <td>0.0</td>\n",
       "      <td>0.0</td>\n",
       "    </tr>\n",
       "    <tr>\n",
       "      <th>2024-11-14 00:00:00+05:30</th>\n",
       "      <td>23542.150391</td>\n",
       "      <td>23675.900391</td>\n",
       "      <td>23484.150391</td>\n",
       "      <td>23532.699219</td>\n",
       "      <td>257700</td>\n",
       "      <td>0.0</td>\n",
       "      <td>0.0</td>\n",
       "    </tr>\n",
       "  </tbody>\n",
       "</table>\n",
       "<p>4208 rows × 7 columns</p>\n",
       "</div>"
      ],
      "text/plain": [
       "                                   Open          High           Low  \\\n",
       "Date                                                                  \n",
       "2007-09-17 00:00:00+05:30   4518.450195   4549.049805   4482.850098   \n",
       "2007-09-18 00:00:00+05:30   4494.100098   4551.799805   4481.549805   \n",
       "2007-09-19 00:00:00+05:30   4550.250000   4739.000000   4550.250000   \n",
       "2007-09-20 00:00:00+05:30   4734.850098   4760.850098   4721.149902   \n",
       "2007-09-21 00:00:00+05:30   4752.950195   4855.700195   4733.700195   \n",
       "...                                 ...           ...           ...   \n",
       "2024-11-08 00:00:00+05:30  24207.699219  24276.150391  24066.650391   \n",
       "2024-11-11 00:00:00+05:30  24087.250000  24336.800781  24004.599609   \n",
       "2024-11-12 00:00:00+05:30  24225.800781  24242.000000  23839.150391   \n",
       "2024-11-13 00:00:00+05:30  23822.449219  23873.599609  23509.599609   \n",
       "2024-11-14 00:00:00+05:30  23542.150391  23675.900391  23484.150391   \n",
       "\n",
       "                                  Close  Volume  Dividends  Stock Splits  \n",
       "Date                                                                      \n",
       "2007-09-17 00:00:00+05:30   4494.649902       0        0.0           0.0  \n",
       "2007-09-18 00:00:00+05:30   4546.200195       0        0.0           0.0  \n",
       "2007-09-19 00:00:00+05:30   4732.350098       0        0.0           0.0  \n",
       "2007-09-20 00:00:00+05:30   4747.549805       0        0.0           0.0  \n",
       "2007-09-21 00:00:00+05:30   4837.549805       0        0.0           0.0  \n",
       "...                                 ...     ...        ...           ...  \n",
       "2024-11-08 00:00:00+05:30  24148.199219  298700        0.0           0.0  \n",
       "2024-11-11 00:00:00+05:30  24141.300781  273400        0.0           0.0  \n",
       "2024-11-12 00:00:00+05:30  23883.449219  255800        0.0           0.0  \n",
       "2024-11-13 00:00:00+05:30  23559.050781  304600        0.0           0.0  \n",
       "2024-11-14 00:00:00+05:30  23532.699219  257700        0.0           0.0  \n",
       "\n",
       "[4208 rows x 7 columns]"
      ]
     },
     "execution_count": 182,
     "metadata": {},
     "output_type": "execute_result"
    }
   ],
   "source": [
    "# Fetch AAPL stock data with a 1-hour timeframe\n",
    "nsei = yf.Ticker(\"^NSEI\")\n",
    "dataset_train = nsei.history(period=\"max\", interval=\"1d\")\n",
    "dataset_train"
   ]
  },
  {
   "cell_type": "code",
   "execution_count": 183,
   "metadata": {
    "colab": {
     "base_uri": "https://localhost:8080/"
    },
    "id": "7h1B7-QzobBy",
    "outputId": "eb2c313c-ccd5-45b9-f50b-dc4468be3f09"
   },
   "outputs": [
    {
     "data": {
      "text/plain": [
       "(4175, 1)"
      ]
     },
     "execution_count": 183,
     "metadata": {},
     "output_type": "execute_result"
    }
   ],
   "source": [
    "training_set = dataset_train.iloc[:-33, 1:2].values\n",
    "training_set.shape"
   ]
  },
  {
   "cell_type": "code",
   "execution_count": 184,
   "metadata": {
    "colab": {
     "base_uri": "https://localhost:8080/"
    },
    "id": "tH4EdWg-ojJK",
    "outputId": "c75afbc5-5a8f-4dbb-e34f-13b06926871d"
   },
   "outputs": [
    {
     "data": {
      "text/plain": [
       "array([[-0.83422711],\n",
       "       [-0.83399497],\n",
       "       [-0.81819218],\n",
       "       ...,\n",
       "       [ 0.97935604],\n",
       "       [ 0.99776725],\n",
       "       [ 1.        ]])"
      ]
     },
     "execution_count": 184,
     "metadata": {},
     "output_type": "execute_result"
    }
   ],
   "source": [
    "from sklearn.preprocessing import MinMaxScaler\n",
    "sc = MinMaxScaler(feature_range=(-1,1))\n",
    "training_set_scaled = sc.fit_transform(training_set)\n",
    "training_set_scaled"
   ]
  },
  {
   "cell_type": "code",
   "execution_count": 185,
   "metadata": {
    "colab": {
     "base_uri": "https://localhost:8080/"
    },
    "id": "K8IQkocnwlbw",
    "outputId": "f6ca048c-e7f6-44d3-ad92-f1f2710c1122"
   },
   "outputs": [
    {
     "data": {
      "text/plain": [
       "(4175, 1)"
      ]
     },
     "execution_count": 185,
     "metadata": {},
     "output_type": "execute_result"
    }
   ],
   "source": [
    "training_set_scaled.shape"
   ]
  },
  {
   "cell_type": "code",
   "execution_count": 186,
   "metadata": {
    "colab": {
     "base_uri": "https://localhost:8080/"
    },
    "id": "2PxzEQQRkw0F",
    "outputId": "d90bd1a0-59c5-499b-d115-a2f8c1eff150"
   },
   "outputs": [
    {
     "data": {
      "text/plain": [
       "array([[-0.83422711, -0.83399497, -0.81819218, ..., -0.74500727,\n",
       "        -0.73564129, -0.71828525],\n",
       "       [-0.83399497, -0.81819218, -0.81634767, ..., -0.73564129,\n",
       "        -0.71828525, -0.71376896],\n",
       "       [-0.81819218, -0.81634767, -0.80834076, ..., -0.71828525,\n",
       "        -0.71376896, -0.71577386],\n",
       "       ...,\n",
       "       [ 0.83813976,  0.82434195,  0.85535661, ...,  0.96386133,\n",
       "         0.97287279,  0.97756219],\n",
       "       [ 0.82434195,  0.85535661,  0.86167944, ...,  0.97287279,\n",
       "         0.97756219,  0.97935604],\n",
       "       [ 0.85535661,  0.86167944,  0.86974121, ...,  0.97756219,\n",
       "         0.97935604,  0.99776725]])"
      ]
     },
     "execution_count": 186,
     "metadata": {},
     "output_type": "execute_result"
    }
   ],
   "source": [
    "X_train = []\n",
    "y_train = []\n",
    "for i in range(30, len(training_set_scaled)):\n",
    "    X_train.append(training_set_scaled[i-30:i, 0])\n",
    "    y_train.append(training_set_scaled[i, 0])\n",
    "X_train, y_train = np.array(X_train), np.array(y_train)\n",
    "X_train"
   ]
  },
  {
   "cell_type": "code",
   "execution_count": 187,
   "metadata": {
    "colab": {
     "base_uri": "https://localhost:8080/"
    },
    "id": "FOA2Z262xyRw",
    "outputId": "49150010-be44-41b6-f251-ab4a86ad59ff"
   },
   "outputs": [
    {
     "data": {
      "text/plain": [
       "(4145, 30)"
      ]
     },
     "execution_count": 187,
     "metadata": {},
     "output_type": "execute_result"
    }
   ],
   "source": [
    "X_train.shape"
   ]
  },
  {
   "cell_type": "code",
   "execution_count": 188,
   "metadata": {
    "colab": {
     "base_uri": "https://localhost:8080/"
    },
    "id": "X8pD4I8wjQ0z",
    "outputId": "09d156a1-afdc-4fbf-a3dc-838abb8dd0cc"
   },
   "outputs": [
    {
     "data": {
      "text/plain": [
       "(4145,)"
      ]
     },
     "execution_count": 188,
     "metadata": {},
     "output_type": "execute_result"
    }
   ],
   "source": [
    "y_train.shape"
   ]
  },
  {
   "cell_type": "code",
   "execution_count": 189,
   "metadata": {
    "colab": {
     "base_uri": "https://localhost:8080/"
    },
    "id": "07idV0vCol8G",
    "outputId": "5bcc52fa-c997-4794-fb68-325b5239d8c6"
   },
   "outputs": [
    {
     "data": {
      "text/plain": [
       "(4145, 30, 1)"
      ]
     },
     "execution_count": 189,
     "metadata": {},
     "output_type": "execute_result"
    }
   ],
   "source": [
    "X_train = np.reshape(X_train, (X_train.shape[0], X_train.shape[1],1))\n",
    "X_train.shape"
   ]
  },
  {
   "cell_type": "code",
   "execution_count": 190,
   "metadata": {
    "colab": {
     "base_uri": "https://localhost:8080/"
    },
    "id": "Qls8EGP6i3LK",
    "outputId": "bc9b90ff-419f-4944-80d3-8061cdb8ac0f"
   },
   "outputs": [
    {
     "data": {
      "text/plain": [
       "(4145, 1, 1)"
      ]
     },
     "execution_count": 190,
     "metadata": {},
     "output_type": "execute_result"
    }
   ],
   "source": [
    "y_train = np.reshape(y_train, (y_train.shape[0], 1 ,1))\n",
    "y_train.shape"
   ]
  },
  {
   "cell_type": "markdown",
   "metadata": {
    "id": "_OUOBCNW9bZp"
   },
   "source": [
    "## Finding The Best Hyperparameters"
   ]
  },
  {
   "cell_type": "markdown",
   "metadata": {
    "id": "Tnw8GfB8ccoi"
   },
   "source": [
    "### Best Optimizer"
   ]
  },
  {
   "cell_type": "code",
   "execution_count": 191,
   "metadata": {
    "id": "IdQkH1l79goi"
   },
   "outputs": [],
   "source": [
    "# def build_model(hp):\n",
    "#     model = tf.keras.models.Sequential()\n",
    "#     model.add(LSTM(units=120, activation='relu', return_sequences=True))\n",
    "#     model.add(Dense(units=1, activation = 'linear'))\n",
    "#     model.compile(optimizer = hp.Choice('optimizer', values = ['ftrl', 'adam', 'nadam', 'adamax', 'lion']),\n",
    "#                   loss = 'mean_squared_error',\n",
    "#                   metrics = ['accuracy']\n",
    "#                   )\n",
    "#     return model"
   ]
  },
  {
   "cell_type": "code",
   "execution_count": 192,
   "metadata": {
    "colab": {
     "base_uri": "https://localhost:8080/"
    },
    "id": "8h7NYRRRcWpN",
    "outputId": "a79e41ca-80c6-4771-c064-416e7de647e7"
   },
   "outputs": [],
   "source": [
    "# tuner = kt.RandomSearch(build_model,\n",
    "#                         objective='accuracy',\n",
    "#                         max_trials=6,\n",
    "#                         directory='main',\n",
    "#                         project_name='opt')"
   ]
  },
  {
   "cell_type": "code",
   "execution_count": 193,
   "metadata": {
    "colab": {
     "base_uri": "https://localhost:8080/"
    },
    "id": "xOLmiCXPcZYs",
    "outputId": "133d08f6-a940-460f-c1cd-b518c506c5a3"
   },
   "outputs": [],
   "source": [
    "# tuner.search(X_train, y_train, epochs = 6)"
   ]
  },
  {
   "cell_type": "code",
   "execution_count": 194,
   "metadata": {
    "colab": {
     "base_uri": "https://localhost:8080/"
    },
    "id": "iMxTaGyuca-L",
    "outputId": "0b87df81-b06a-4d2d-ea61-2ef2d83b3863"
   },
   "outputs": [],
   "source": [
    "# tuner.get_best_hyperparameters()[0].values"
   ]
  },
  {
   "cell_type": "markdown",
   "metadata": {
    "id": "k_QkFZ9djsDS"
   },
   "source": [
    "### Best Activation Function"
   ]
  },
  {
   "cell_type": "code",
   "execution_count": 195,
   "metadata": {
    "id": "Zuw4gXN4jrCD"
   },
   "outputs": [],
   "source": [
    "# def build_model(hp):\n",
    "#     model = tf.keras.models.Sequential()\n",
    "#     for i in range(hp.Int('num_layers', min_value = 1, max_value = 12)):\n",
    "#         model.add(Dense(units=87,\n",
    "#                 activation = hp.Choice('activation_', values = ['relu', 'tanh', 'selu', 'leaky_relu', 'linear', 'softmax']))\n",
    "#         )\n",
    "#     model.add(Dense(units=1, activation = 'linear'))\n",
    "#     model.compile(optimizer = 'lion',\n",
    "#                   loss = 'mean_squared_error',\n",
    "#                   metrics = ['root_mean_squared_error']\n",
    "#                   )\n",
    "#     return model"
   ]
  },
  {
   "cell_type": "code",
   "execution_count": 196,
   "metadata": {
    "colab": {
     "base_uri": "https://localhost:8080/"
    },
    "id": "xlMtfns4jxL4",
    "outputId": "c67c79b4-88fb-426c-ce9a-3fc9f83206fe"
   },
   "outputs": [],
   "source": [
    "# tuner = kt.RandomSearch(build_model,\n",
    "#                         objective='root_mean_squared_error',\n",
    "#                         max_trials=6,\n",
    "#                         directory='main',\n",
    "#                         project_name='units')"
   ]
  },
  {
   "cell_type": "code",
   "execution_count": 197,
   "metadata": {
    "colab": {
     "base_uri": "https://localhost:8080/",
     "height": 1000
    },
    "id": "XyP20DeKjyxr",
    "outputId": "22de821a-4553-44d0-a17d-80cc79a16adb"
   },
   "outputs": [],
   "source": [
    "# tuner.search(X_train, y_train, epochs = 6)"
   ]
  },
  {
   "cell_type": "code",
   "execution_count": 198,
   "metadata": {
    "id": "SO7VRw08j1rS"
   },
   "outputs": [],
   "source": [
    "# tuner.get_best_hyperparameters()[0].values"
   ]
  },
  {
   "cell_type": "markdown",
   "metadata": {},
   "source": [
    "### Optimal Number Of Units"
   ]
  },
  {
   "cell_type": "code",
   "execution_count": 199,
   "metadata": {},
   "outputs": [],
   "source": [
    "# def build_model(hp):\n",
    "#     model = tf.keras.models.Sequential()\n",
    "#     model.add(LSTM(units=hp.Choice('Neurons', [60, 600, 12]), activation='relu', return_sequences=True))\n",
    "#     model.add(LSTM(units=hp.Choice('Neurons', [60, 600, 12]), activation='relu', return_sequences=True))\n",
    "#     model.add(LSTM(units=hp.Choice('Neurons', [60, 600, 12]), activation='relu', return_sequences=True))\n",
    "#     model.add(LSTM(units=hp.Choice('Neurons', [60, 600, 12]), activation='relu'))\n",
    "#     model.add(Dense(units=1, activation = 'linear'))\n",
    "#     model.compile(optimizer = 'lion',\n",
    "#                   loss = 'mean_squared_error',\n",
    "#                   metrics = ['accuracy']\n",
    "#                   )\n",
    "#     return model"
   ]
  },
  {
   "cell_type": "code",
   "execution_count": 200,
   "metadata": {},
   "outputs": [],
   "source": [
    "# tuner = kt.RandomSearch(build_model,\n",
    "#                         objective='accuracy',\n",
    "#                         max_trials=6,\n",
    "#                         directory='main',\n",
    "#                         project_name='neurons')"
   ]
  },
  {
   "cell_type": "code",
   "execution_count": 201,
   "metadata": {},
   "outputs": [],
   "source": [
    "# tuner.search(X_train, y_train, epochs = 6)"
   ]
  },
  {
   "cell_type": "code",
   "execution_count": 202,
   "metadata": {},
   "outputs": [],
   "source": [
    "# tuner.get_best_hyperparameters()[0].values"
   ]
  },
  {
   "cell_type": "markdown",
   "metadata": {
    "id": "qaZRms6np9Nm"
   },
   "source": [
    "## Building The RNN with LSTM"
   ]
  },
  {
   "cell_type": "code",
   "execution_count": 203,
   "metadata": {
    "id": "arb5c2FvjFfX"
   },
   "outputs": [],
   "source": [
    "rnn = Sequential()"
   ]
  },
  {
   "cell_type": "code",
   "execution_count": 204,
   "metadata": {
    "colab": {
     "base_uri": "https://localhost:8080/"
    },
    "id": "i-o0RpXXjgQP",
    "outputId": "5bb340c6-391b-44a1-d50e-812bc5003292"
   },
   "outputs": [
    {
     "name": "stderr",
     "output_type": "stream",
     "text": [
      "/opt/anaconda3/lib/python3.12/site-packages/keras/src/layers/rnn/rnn.py:204: UserWarning: Do not pass an `input_shape`/`input_dim` argument to a layer. When using Sequential models, prefer using an `Input(shape)` object as the first layer in the model instead.\n",
      "  super().__init__(**kwargs)\n"
     ]
    }
   ],
   "source": [
    "rnn.add(LSTM(units=60, activation='relu', return_sequences=True, input_shape=(None, 1)))"
   ]
  },
  {
   "cell_type": "code",
   "execution_count": 205,
   "metadata": {
    "id": "tWYyev8ykD4k"
   },
   "outputs": [],
   "source": [
    "rnn.add(LSTM(units=60, activation='relu', return_sequences=True))"
   ]
  },
  {
   "cell_type": "code",
   "execution_count": 206,
   "metadata": {
    "id": "Ux1bDzy2kFWp"
   },
   "outputs": [],
   "source": [
    "rnn.add(LSTM(units=60, activation='relu', return_sequences=True))"
   ]
  },
  {
   "cell_type": "code",
   "execution_count": 207,
   "metadata": {
    "id": "jJDsUu6lkF3V"
   },
   "outputs": [],
   "source": [
    "rnn.add(LSTM(units=60, activation='relu', return_sequences=True))"
   ]
  },
  {
   "cell_type": "code",
   "execution_count": 208,
   "metadata": {
    "id": "e4Yt96vOkHvn"
   },
   "outputs": [],
   "source": [
    "rnn.add(LSTM(units=60, activation='relu'))"
   ]
  },
  {
   "cell_type": "code",
   "execution_count": 209,
   "metadata": {
    "id": "1fSDXwAukSeg"
   },
   "outputs": [],
   "source": [
    "rnn.add(Dense(1, activation='linear'))"
   ]
  },
  {
   "cell_type": "code",
   "execution_count": 210,
   "metadata": {
    "id": "vbEplGH1n6jR"
   },
   "outputs": [],
   "source": [
    "rnn.compile(optimizer='lion', loss='mean_squared_error')"
   ]
  },
  {
   "cell_type": "code",
   "execution_count": 211,
   "metadata": {
    "colab": {
     "base_uri": "https://localhost:8080/"
    },
    "collapsed": true,
    "id": "jDMQemnfopVN",
    "outputId": "c51c4a44-5118-46e7-f59d-ace9729014b7"
   },
   "outputs": [
    {
     "name": "stdout",
     "output_type": "stream",
     "text": [
      "Epoch 1/9\n"
     ]
    },
    {
     "name": "stdout",
     "output_type": "stream",
     "text": [
      "\u001b[1m173/173\u001b[0m \u001b[32m━━━━━━━━━━━━━━━━━━━━\u001b[0m\u001b[37m\u001b[0m \u001b[1m5s\u001b[0m 19ms/step - loss: 0.0867\n",
      "Epoch 2/9\n",
      "\u001b[1m173/173\u001b[0m \u001b[32m━━━━━━━━━━━━━━━━━━━━\u001b[0m\u001b[37m\u001b[0m \u001b[1m4s\u001b[0m 21ms/step - loss: 0.0022\n",
      "Epoch 3/9\n",
      "\u001b[1m173/173\u001b[0m \u001b[32m━━━━━━━━━━━━━━━━━━━━\u001b[0m\u001b[37m\u001b[0m \u001b[1m4s\u001b[0m 22ms/step - loss: 0.0013\n",
      "Epoch 4/9\n",
      "\u001b[1m173/173\u001b[0m \u001b[32m━━━━━━━━━━━━━━━━━━━━\u001b[0m\u001b[37m\u001b[0m \u001b[1m3s\u001b[0m 20ms/step - loss: 8.7601e-04\n",
      "Epoch 5/9\n",
      "\u001b[1m173/173\u001b[0m \u001b[32m━━━━━━━━━━━━━━━━━━━━\u001b[0m\u001b[37m\u001b[0m \u001b[1m3s\u001b[0m 20ms/step - loss: 6.1491e-04\n",
      "Epoch 6/9\n",
      "\u001b[1m173/173\u001b[0m \u001b[32m━━━━━━━━━━━━━━━━━━━━\u001b[0m\u001b[37m\u001b[0m \u001b[1m3s\u001b[0m 19ms/step - loss: 4.7712e-04\n",
      "Epoch 7/9\n",
      "\u001b[1m173/173\u001b[0m \u001b[32m━━━━━━━━━━━━━━━━━━━━\u001b[0m\u001b[37m\u001b[0m \u001b[1m3s\u001b[0m 20ms/step - loss: 4.1995e-04\n",
      "Epoch 8/9\n",
      "\u001b[1m173/173\u001b[0m \u001b[32m━━━━━━━━━━━━━━━━━━━━\u001b[0m\u001b[37m\u001b[0m \u001b[1m3s\u001b[0m 19ms/step - loss: 3.7815e-04\n",
      "Epoch 9/9\n",
      "\u001b[1m173/173\u001b[0m \u001b[32m━━━━━━━━━━━━━━━━━━━━\u001b[0m\u001b[37m\u001b[0m \u001b[1m3s\u001b[0m 18ms/step - loss: 3.6044e-04\n"
     ]
    },
    {
     "data": {
      "text/plain": [
       "<keras.src.callbacks.history.History at 0x3972a1ac0>"
      ]
     },
     "execution_count": 211,
     "metadata": {},
     "output_type": "execute_result"
    }
   ],
   "source": [
    "rnn.fit(X_train, y_train, epochs = 9, batch_size = 24)"
   ]
  },
  {
   "cell_type": "markdown",
   "metadata": {
    "id": "_wdmwlFUqB19"
   },
   "source": [
    "## Making a Test Set and Predicting the Outputs"
   ]
  },
  {
   "cell_type": "code",
   "execution_count": 212,
   "metadata": {
    "colab": {
     "base_uri": "https://localhost:8080/"
    },
    "id": "VBWMP_mB1kfr",
    "outputId": "a558793f-741a-4dce-dcb4-e0ad8c022e1b"
   },
   "outputs": [
    {
     "data": {
      "text/plain": [
       "(33, 1)"
      ]
     },
     "execution_count": 212,
     "metadata": {},
     "output_type": "execute_result"
    }
   ],
   "source": [
    "inputs = dataset_train.iloc[-33:,1:2].values\n",
    "inputs = sc.transform(inputs)\n",
    "inputs.shape"
   ]
  },
  {
   "cell_type": "code",
   "execution_count": 213,
   "metadata": {
    "colab": {
     "base_uri": "https://localhost:8080/"
    },
    "id": "jTqeVeKyo3Sm",
    "outputId": "c177e2e2-1769-4acd-be74-4309bdd39e05"
   },
   "outputs": [
    {
     "data": {
      "text/plain": [
       "(4, 30)"
      ]
     },
     "execution_count": 213,
     "metadata": {},
     "output_type": "execute_result"
    }
   ],
   "source": [
    "X_test = []\n",
    "for i in range(30, 34):\n",
    "    X_test.append(inputs[i-30:i, 0])\n",
    "X_test = np.array(X_test)\n",
    "X_test.shape"
   ]
  },
  {
   "cell_type": "code",
   "execution_count": 214,
   "metadata": {
    "colab": {
     "base_uri": "https://localhost:8080/"
    },
    "id": "OBlJSn7p1-K_",
    "outputId": "e0cbd8f1-59a7-4f1c-f689-0c4c9c9dc65d"
   },
   "outputs": [
    {
     "name": "stdout",
     "output_type": "stream",
     "text": [
      "WARNING:tensorflow:6 out of the last 6 calls to <function TensorFlowTrainer.make_predict_function.<locals>.one_step_on_data_distributed at 0x3a797c5e0> triggered tf.function retracing. Tracing is expensive and the excessive number of tracings could be due to (1) creating @tf.function repeatedly in a loop, (2) passing tensors with different shapes, (3) passing Python objects instead of tensors. For (1), please define your @tf.function outside of the loop. For (2), @tf.function has reduce_retracing=True option that can avoid unnecessary retracing. For (3), please refer to https://www.tensorflow.org/guide/function#controlling_retracing and https://www.tensorflow.org/api_docs/python/tf/function for  more details.\n",
      "\u001b[1m1/1\u001b[0m \u001b[32m━━━━━━━━━━━━━━━━━━━━\u001b[0m\u001b[37m\u001b[0m \u001b[1m0s\u001b[0m 192ms/step\n"
     ]
    }
   ],
   "source": [
    "X_test = np.reshape(X_test, (X_test.shape[0], X_test.shape[1], 1))\n",
    "predicted_stock_price = rnn.predict(X_test)\n",
    "predicted_stock_price = sc.inverse_transform(predicted_stock_price)"
   ]
  },
  {
   "cell_type": "code",
   "execution_count": 215,
   "metadata": {},
   "outputs": [
    {
     "data": {
      "text/plain": [
       "array([[24119.379],\n",
       "       [24019.564],\n",
       "       [23639.797],\n",
       "       [23483.643]], dtype=float32)"
      ]
     },
     "execution_count": 215,
     "metadata": {},
     "output_type": "execute_result"
    }
   ],
   "source": [
    "predicted_stock_price"
   ]
  },
  {
   "cell_type": "code",
   "execution_count": 216,
   "metadata": {
    "colab": {
     "base_uri": "https://localhost:8080/"
    },
    "id": "fMjxg8-_slQK",
    "outputId": "8327c046-4ca7-4b2b-9d69-a98f6faa988a"
   },
   "outputs": [
    {
     "data": {
      "text/plain": [
       "99.57676054342525"
      ]
     },
     "execution_count": 216,
     "metadata": {},
     "output_type": "execute_result"
    }
   ],
   "source": [
    "from sklearn.metrics import mean_absolute_percentage_error\n",
    "(1 - mean_absolute_percentage_error(dataset_train.iloc[-3:, 1:2].values, predicted_stock_price[:-1]))*100"
   ]
  }
 ],
 "metadata": {
  "accelerator": "GPU",
  "colab": {
   "gpuType": "T4",
   "provenance": []
  },
  "kernelspec": {
   "display_name": "base",
   "language": "python",
   "name": "python3"
  },
  "language_info": {
   "codemirror_mode": {
    "name": "ipython",
    "version": 3
   },
   "file_extension": ".py",
   "mimetype": "text/x-python",
   "name": "python",
   "nbconvert_exporter": "python",
   "pygments_lexer": "ipython3",
   "version": "3.12.4"
  }
 },
 "nbformat": 4,
 "nbformat_minor": 0
}
